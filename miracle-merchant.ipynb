{
 "cells": [
  {
   "cell_type": "code",
   "execution_count": null,
   "metadata": {
    "ExecuteTime": {
     "end_time": "2018-04-17T23:21:47.150203Z",
     "start_time": "2018-04-17T23:21:47.144757Z"
    },
    "code_folding": []
   },
   "outputs": [],
   "source": [
    "# Imports\n",
    "\n",
    "from random import shuffle\n",
    "import csv\n",
    "import re\n",
    "import copy\n",
    "import random"
   ]
  },
  {
   "cell_type": "code",
   "execution_count": null,
   "metadata": {
    "ExecuteTime": {
     "end_time": "2018-04-17T23:21:47.169509Z",
     "start_time": "2018-04-17T23:21:47.154392Z"
    },
    "code_folding": [
     0
    ]
   },
   "outputs": [],
   "source": [
    "# Make input lists\n",
    "\n",
    "startOrder = ['B', 'B', 'B', 'G', 'G', 'G', 'Y', 'Y', 'Y', 'R', 'R', 'R', 'D']\n",
    "\n",
    "needOrder = startOrder\n",
    "while (needOrder[0] == 'D' or needOrder[-1] == 'D'):\n",
    "    shuffle(needOrder)\n",
    "\n",
    "loveOrder = startOrder\n",
    "while (loveOrder[0] == 'D' or loveOrder[-1] == 'D'):\n",
    "    shuffle(loveOrder)"
   ]
  },
  {
   "cell_type": "code",
   "execution_count": 326,
   "metadata": {
    "ExecuteTime": {
     "end_time": "2018-04-18T05:17:40.055832Z",
     "start_time": "2018-04-18T05:17:40.036268Z"
    },
    "code_folding": []
   },
   "outputs": [
    {
     "name": "stdout",
     "output_type": "stream",
     "text": [
      "[[[1, 'B', 'N', 'N', 'D'], [1, 'G', 'N', 'R', 'N'], [1, 'Y', 'N', 'N', 'R'], [1, 'R', 'N', 'N', 'Y'], 'Y', 'B', [-3, 'D', 'N', 'N', 'N'], [1, 'G', 'N', 'N', 'Y'], [1, 'Y', 'N', 'N', 'G'], [1, 'R', 'B', 'N', 'N'], 'G', 'D', [1, 'B', 'N', 'N', 'G'], [1, 'G', 'N', 'N', 'B'], [-3, 'D', 'N', 'N', 'N'], [1, 'R', 'N', 'N', 'D'], 'B', 'Y', [1, 'B', 'R', 'N', 'N'], [-3, 'D', 'N', 'N', 'N'], [1, 'Y', 'N', 'N', 'N'], [1, 'R', 'D', 'N', 'Y'], 'R', 'G', [-2, 'D', 'N', 'N', 'N'], [1, 'G', 'D', 'N', 'R'], [1, 'Y', 'D', 'N', 'B'], [-3, 'D', 'N', 'N', 'N'], 'B', 'R', [1, 'B', 'Y', 'N', 'N'], [1, 'G', 'N', 'Y', 'N'], [1, 'Y', 'N', 'Y', 'N'], [1, 'R', 'N', 'N', 'R'], 'B', 'G', [1, 'B', 'B', 'N', 'G'], [-2, 'D', 'N', 'N', 'N'], [-2, 'D', 'N', 'N', 'N'], [1, 'R', 'R', 'N', 'N'], 'G', 'B', [1, 'B', 'N', 'N', 'N'], [1, 'G', 'D', 'N', 'N'], [1, 'Y', 'B', 'N', 'N'], [-2, 'D', 'N', 'N', 'N'], 'R', 'Y', [1, 'B', 'N', 'B', 'N'], [1, 'G', 'N', 'N', 'N'], [1, 'Y', 'D', 'N', 'N'], [1, 'R', 'N', 'G', 'N'], 'R', 'B', [-1, 'D', 'N', 'N', 'N'], [1, 'G', 'B', 'N', 'N'], [1, 'Y', 'N', 'R', 'N'], [1, 'R', 'G', 'N', 'N'], 'Y', 'R', [1, 'B', 'N', 'N', 'R'], [1, 'G', 'N', 'N', 'G'], [-1, 'D', 'N', 'N', 'N'], [-1, 'D', 'N', 'N', 'N'], 'D', 'Y', [1, 'B', 'N', 'D', 'N'], [-1, 'D', 'N', 'N', 'N'], [1, 'Y', 'N', 'N', 'Y'], [1, 'R', 'N', 'N', 'N'], 'Y', 'G', [1, 'B', 'Y', 'N', 'N'], [1, 'G', 'G', 'N', 'N'], [1, 'Y', 'N', 'N', 'Y'], [1, 'R', 'N', 'B', 'N'], 'G', 'R'], [[1, 'B', 'N', 'N', 'D'], [1, 'G', 'N', 'R', 'N'], [1, 'Y', 'N', 'N', 'R'], [1, 'R', 'N', 'N', 'Y'], 'Y', 'B', [-3, 'D', 'N', 'N', 'N'], [1, 'G', 'N', 'N', 'Y'], [1, 'Y', 'N', 'N', 'G'], [1, 'R', 'B', 'N', 'N'], 'G', 'D', [1, 'B', 'N', 'N', 'G'], [1, 'G', 'N', 'N', 'B'], [-3, 'D', 'N', 'N', 'N'], [1, 'R', 'N', 'N', 'D'], 'B', 'Y', [1, 'B', 'R', 'N', 'N'], [-3, 'D', 'N', 'N', 'N'], [1, 'Y', 'N', 'N', 'N'], [1, 'R', 'D', 'N', 'Y'], 'R', 'G', [-2, 'D', 'N', 'N', 'N'], [1, 'G', 'D', 'N', 'R'], [1, 'Y', 'D', 'N', 'B'], [-3, 'D', 'N', 'N', 'N'], 'B', 'R', [1, 'B', 'Y', 'N', 'N'], [1, 'G', 'N', 'Y', 'N'], [1, 'Y', 'N', 'Y', 'N'], [1, 'R', 'N', 'N', 'R'], 'B', 'G', [1, 'B', 'B', 'N', 'G'], [-2, 'D', 'N', 'N', 'N'], [-2, 'D', 'N', 'N', 'N'], [1, 'R', 'R', 'N', 'N'], 'G', 'B', [1, 'B', 'N', 'N', 'N'], [1, 'G', 'D', 'N', 'N'], [1, 'Y', 'B', 'N', 'N'], [-2, 'D', 'N', 'N', 'N'], 'R', 'Y', [1, 'B', 'N', 'B', 'N'], [1, 'G', 'N', 'N', 'N'], [1, 'Y', 'D', 'N', 'N'], [1, 'R', 'N', 'G', 'N'], 'R', 'B', [-1, 'D', 'N', 'N', 'N'], [1, 'G', 'B', 'N', 'N'], [1, 'Y', 'N', 'R', 'N'], [1, 'R', 'G', 'N', 'N'], 'Y', 'R', [1, 'B', 'N', 'N', 'R'], [1, 'G', 'N', 'N', 'G'], [-1, 'D', 'N', 'N', 'N'], [-1, 'D', 'N', 'N', 'N'], 'D', 'Y', [1, 'B', 'N', 'D', 'N'], [-1, 'D', 'N', 'N', 'N'], [1, 'Y', 'N', 'N', 'Y'], [1, 'R', 'N', 'N', 'N'], 'Y', 'G', [1, 'B', 'Y', 'N', 'N'], [1, 'G', 'G', 'N', 'N'], [1, 'Y', 'N', 'N', 'Y'], [1, 'R', 'N', 'B', 'N'], 'G', 'R'], [[1, 'B', 'N', 'N', 'D'], [1, 'G', 'N', 'R', 'N'], [1, 'Y', 'N', 'N', 'R'], [1, 'R', 'N', 'N', 'Y'], 'Y', 'B', [-3, 'D', 'N', 'N', 'N'], [1, 'G', 'N', 'N', 'Y'], [1, 'Y', 'N', 'N', 'G'], [1, 'R', 'B', 'N', 'N'], 'G', 'D', [1, 'B', 'N', 'N', 'G'], [1, 'G', 'N', 'N', 'B'], [-3, 'D', 'N', 'N', 'N'], [1, 'R', 'N', 'N', 'D'], 'B', 'Y', [1, 'B', 'R', 'N', 'N'], [-3, 'D', 'N', 'N', 'N'], [1, 'Y', 'N', 'N', 'N'], [1, 'R', 'D', 'N', 'Y'], 'R', 'G', [-2, 'D', 'N', 'N', 'N'], [1, 'G', 'D', 'N', 'R'], [1, 'Y', 'D', 'N', 'B'], [-3, 'D', 'N', 'N', 'N'], 'B', 'R', [1, 'B', 'Y', 'N', 'N'], [1, 'G', 'N', 'Y', 'N'], [1, 'Y', 'N', 'Y', 'N'], [1, 'R', 'N', 'N', 'R'], 'B', 'G', [1, 'B', 'B', 'N', 'G'], [-2, 'D', 'N', 'N', 'N'], [-2, 'D', 'N', 'N', 'N'], [1, 'R', 'R', 'N', 'N'], 'G', 'B', [1, 'B', 'N', 'N', 'N'], [1, 'G', 'D', 'N', 'N'], [1, 'Y', 'B', 'N', 'N'], [-2, 'D', 'N', 'N', 'N'], 'R', 'Y', [1, 'B', 'N', 'B', 'N'], [1, 'G', 'N', 'N', 'N'], [1, 'Y', 'D', 'N', 'N'], [1, 'R', 'N', 'G', 'N'], 'R', 'B', [-1, 'D', 'N', 'N', 'N'], [1, 'G', 'B', 'N', 'N'], [1, 'Y', 'N', 'R', 'N'], [1, 'R', 'G', 'N', 'N'], 'Y', 'R', [1, 'B', 'N', 'N', 'R'], [1, 'G', 'N', 'N', 'G'], [-1, 'D', 'N', 'N', 'N'], [-1, 'D', 'N', 'N', 'N'], 'D', 'Y', [1, 'B', 'N', 'D', 'N'], [-1, 'D', 'N', 'N', 'N'], [1, 'Y', 'N', 'N', 'Y'], [1, 'R', 'N', 'N', 'N'], 'Y', 'G', [1, 'B', 'Y', 'N', 'N'], [1, 'G', 'G', 'N', 'N'], [1, 'Y', 'N', 'N', 'Y'], [1, 'R', 'N', 'B', 'N'], 'G', 'R'], [[1, 'B', 'N', 'N', 'D'], [1, 'G', 'N', 'R', 'N'], [1, 'Y', 'N', 'N', 'R'], [1, 'R', 'N', 'N', 'Y'], 'Y', 'B', [-3, 'D', 'N', 'N', 'N'], [1, 'G', 'N', 'N', 'Y'], [1, 'Y', 'N', 'N', 'G'], [1, 'R', 'B', 'N', 'N'], 'G', 'D', [1, 'B', 'N', 'N', 'G'], [1, 'G', 'N', 'N', 'B'], [-3, 'D', 'N', 'N', 'N'], [1, 'R', 'N', 'N', 'D'], 'B', 'Y', [1, 'B', 'R', 'N', 'N'], [-3, 'D', 'N', 'N', 'N'], [1, 'Y', 'N', 'N', 'N'], [1, 'R', 'D', 'N', 'Y'], 'R', 'G', [-2, 'D', 'N', 'N', 'N'], [1, 'G', 'D', 'N', 'R'], [1, 'Y', 'D', 'N', 'B'], [-3, 'D', 'N', 'N', 'N'], 'B', 'R', [1, 'B', 'Y', 'N', 'N'], [1, 'G', 'N', 'Y', 'N'], [1, 'Y', 'N', 'Y', 'N'], [1, 'R', 'N', 'N', 'R'], 'B', 'G', [1, 'B', 'B', 'N', 'G'], [-2, 'D', 'N', 'N', 'N'], [-2, 'D', 'N', 'N', 'N'], [1, 'R', 'R', 'N', 'N'], 'G', 'B', [1, 'B', 'N', 'N', 'N'], [1, 'G', 'D', 'N', 'N'], [1, 'Y', 'B', 'N', 'N'], [-2, 'D', 'N', 'N', 'N'], 'R', 'Y', [1, 'B', 'N', 'B', 'N'], [1, 'G', 'N', 'N', 'N'], [1, 'Y', 'D', 'N', 'N'], [1, 'R', 'N', 'G', 'N'], 'R', 'B', [-1, 'D', 'N', 'N', 'N'], [1, 'G', 'B', 'N', 'N'], [1, 'Y', 'N', 'R', 'N'], [1, 'R', 'G', 'N', 'N'], 'Y', 'R', [1, 'B', 'N', 'N', 'R'], [1, 'G', 'N', 'N', 'G'], [-1, 'D', 'N', 'N', 'N'], [-1, 'D', 'N', 'N', 'N'], 'D', 'Y', [1, 'B', 'N', 'D', 'N'], [-1, 'D', 'N', 'N', 'N'], [1, 'Y', 'N', 'N', 'Y'], [1, 'R', 'N', 'N', 'N'], 'Y', 'G', [1, 'B', 'Y', 'N', 'N'], [1, 'G', 'G', 'N', 'N'], [1, 'Y', 'N', 'N', 'Y'], [1, 'R', 'N', 'B', 'N'], 'G', 'R'], [[1, 'B', 'N', 'N', 'D'], [1, 'G', 'N', 'R', 'N'], [1, 'Y', 'N', 'N', 'R'], [1, 'R', 'N', 'N', 'Y'], 'Y', 'B', [-3, 'D', 'N', 'N', 'N'], [1, 'G', 'N', 'N', 'Y'], [1, 'Y', 'N', 'N', 'G'], [1, 'R', 'B', 'N', 'N'], 'G', 'D', [1, 'B', 'N', 'N', 'G'], [1, 'G', 'N', 'N', 'B'], [-3, 'D', 'N', 'N', 'N'], [1, 'R', 'N', 'N', 'D'], 'B', 'Y', [1, 'B', 'R', 'N', 'N'], [-3, 'D', 'N', 'N', 'N'], [1, 'Y', 'N', 'N', 'N'], [1, 'R', 'D', 'N', 'Y'], 'R', 'G', [-2, 'D', 'N', 'N', 'N'], [1, 'G', 'D', 'N', 'R'], [1, 'Y', 'D', 'N', 'B'], [-3, 'D', 'N', 'N', 'N'], 'B', 'R', [1, 'B', 'Y', 'N', 'N'], [1, 'G', 'N', 'Y', 'N'], [1, 'Y', 'N', 'Y', 'N'], [1, 'R', 'N', 'N', 'R'], 'B', 'G', [1, 'B', 'B', 'N', 'G'], [-2, 'D', 'N', 'N', 'N'], [-2, 'D', 'N', 'N', 'N'], [1, 'R', 'R', 'N', 'N'], 'G', 'B', [1, 'B', 'N', 'N', 'N'], [1, 'G', 'D', 'N', 'N'], [1, 'Y', 'B', 'N', 'N'], [-2, 'D', 'N', 'N', 'N'], 'R', 'Y', [1, 'B', 'N', 'B', 'N'], [1, 'G', 'N', 'N', 'N'], [1, 'Y', 'D', 'N', 'N'], [1, 'R', 'N', 'G', 'N'], 'R', 'B', [-1, 'D', 'N', 'N', 'N'], [1, 'G', 'B', 'N', 'N'], [1, 'Y', 'N', 'R', 'N'], [1, 'R', 'G', 'N', 'N'], 'Y', 'R', [1, 'B', 'N', 'N', 'R'], [1, 'G', 'N', 'N', 'G'], [-1, 'D', 'N', 'N', 'N'], [-1, 'D', 'N', 'N', 'N'], 'D', 'Y', [1, 'B', 'N', 'D', 'N'], [-1, 'D', 'N', 'N', 'N'], [1, 'Y', 'N', 'N', 'Y'], [1, 'R', 'N', 'N', 'N'], 'Y', 'G', [1, 'B', 'Y', 'N', 'N'], [1, 'G', 'G', 'N', 'N'], [1, 'Y', 'N', 'N', 'Y'], [1, 'R', 'N', 'B', 'N'], 'G', 'R'], [[1, 'B', 'N', 'N', 'D'], [1, 'G', 'N', 'R', 'N'], [1, 'Y', 'N', 'N', 'R'], [1, 'R', 'N', 'N', 'Y'], 'Y', 'B', [-3, 'D', 'N', 'N', 'N'], [1, 'G', 'N', 'N', 'Y'], [1, 'Y', 'N', 'N', 'G'], [1, 'R', 'B', 'N', 'N'], 'G', 'D', [1, 'B', 'N', 'N', 'G'], [1, 'G', 'N', 'N', 'B'], [-3, 'D', 'N', 'N', 'N'], [1, 'R', 'N', 'N', 'D'], 'B', 'Y', [1, 'B', 'R', 'N', 'N'], [-3, 'D', 'N', 'N', 'N'], [1, 'Y', 'N', 'N', 'N'], [1, 'R', 'D', 'N', 'Y'], 'R', 'G', [-2, 'D', 'N', 'N', 'N'], [1, 'G', 'D', 'N', 'R'], [1, 'Y', 'D', 'N', 'B'], [-3, 'D', 'N', 'N', 'N'], 'B', 'R', [1, 'B', 'Y', 'N', 'N'], [1, 'G', 'N', 'Y', 'N'], [1, 'Y', 'N', 'Y', 'N'], [1, 'R', 'N', 'N', 'R'], 'B', 'G', [1, 'B', 'B', 'N', 'G'], [-2, 'D', 'N', 'N', 'N'], [-2, 'D', 'N', 'N', 'N'], [1, 'R', 'R', 'N', 'N'], 'G', 'B', [1, 'B', 'N', 'N', 'N'], [1, 'G', 'D', 'N', 'N'], [1, 'Y', 'B', 'N', 'N'], [-2, 'D', 'N', 'N', 'N'], 'R', 'Y', [1, 'B', 'N', 'B', 'N'], [1, 'G', 'N', 'N', 'N'], [1, 'Y', 'D', 'N', 'N'], [1, 'R', 'N', 'G', 'N'], 'R', 'B', [-1, 'D', 'N', 'N', 'N'], [1, 'G', 'B', 'N', 'N'], [1, 'Y', 'N', 'R', 'N'], [1, 'R', 'G', 'N', 'N'], 'Y', 'R', [1, 'B', 'N', 'N', 'R'], [1, 'G', 'N', 'N', 'G'], [-1, 'D', 'N', 'N', 'N'], [-1, 'D', 'N', 'N', 'N'], 'D', 'Y', [1, 'B', 'N', 'D', 'N'], [-1, 'D', 'N', 'N', 'N'], [1, 'Y', 'N', 'N', 'Y'], [1, 'R', 'N', 'N', 'N'], 'Y', 'G', [1, 'B', 'Y', 'N', 'N'], [1, 'G', 'G', 'N', 'N'], [1, 'Y', 'N', 'N', 'Y'], [1, 'R', 'N', 'B', 'N'], 'G', 'R']]\n"
     ]
    }
   ],
   "source": [
    "# Read a CSV to a list\n",
    "\n",
    "def readCSV(filename):\n",
    "    with open(filename, 'rb') as f:\n",
    "        reader = csv.reader(f)\n",
    "        your_list = list(reader)\n",
    "    \n",
    "    deck = [[]] * 6\n",
    "    for cards in your_list:\n",
    "        for i, card in enumerate(cards):\n",
    "            if (i < 4):\n",
    "                if (i == 0):\n",
    "                    thisCardColor = 'B'\n",
    "                elif (i == 1):\n",
    "                    thisCardColor = 'G'\n",
    "                elif (i == 2):\n",
    "                    thisCardColor = 'Y'\n",
    "                elif (i == 3):\n",
    "                    thisCardColor = 'R'\n",
    "\n",
    "                if (card[:2] == \"D \"):\n",
    "                    thisCardPoints = -1 * int(card[-1])\n",
    "                    thisCardColor = 'D'\n",
    "                    thisCardLeft = thisCardMiddle = thisCardRight = 'N'\n",
    "                else:\n",
    "                    thisCardLeft = card[0]\n",
    "                    thisCardMiddle = card[1]\n",
    "                    thisCardRight = card[2]\n",
    "\n",
    "                    thisCardPoints = 1\n",
    "\n",
    "                thisCard = [\n",
    "                    thisCardPoints,\n",
    "                    thisCardColor,\n",
    "                    thisCardLeft,\n",
    "                    thisCardMiddle,\n",
    "                    thisCardRight\n",
    "                ]\n",
    "                deck[i].append(thisCard)\n",
    "            else:\n",
    "                deck[i].append(card)\n",
    "    return deck\n",
    "print readCSV(\"game.csv\")"
   ]
  },
  {
   "cell_type": "code",
   "execution_count": null,
   "metadata": {
    "ExecuteTime": {
     "end_time": "2018-04-17T23:21:47.225192Z",
     "start_time": "2018-04-17T23:21:47.195882Z"
    },
    "code_folding": [
     0
    ]
   },
   "outputs": [],
   "source": [
    "# Calculate info about the CSV file\n",
    "\n",
    "game = readCSV(\"game.csv\")\n",
    "\n",
    "dictCards = {}\n",
    "for turn in game:\n",
    "    for color in turn:\n",
    "        regexp = re.compile(r'[BGYRD]\\*\\*')\n",
    "        if regexp.search(color):\n",
    "            if color in dictCards:\n",
    "                dictCards[color] += 1\n",
    "            else:\n",
    "                dictCards[color] = 0\n",
    "\n",
    "for turn in game:\n",
    "    for color in turn:\n",
    "        regexp = re.compile(r'\\*\\*[BGYRD]')\n",
    "        if regexp.search(color):\n",
    "            if color in dictCards:\n",
    "                dictCards[color] += 1\n",
    "            else:\n",
    "                dictCards[color] = 0\n",
    "\n",
    "print dictCards\n",
    "print dictCards['**D'] + dictCards['D**']\n",
    "print dictCards['**R'] + dictCards['R**']\n",
    "print dictCards['**Y'] + dictCards['Y**']\n",
    "print dictCards['**B'] + dictCards['B**']\n",
    "print dictCards['**G'] + dictCards['G**']"
   ]
  },
  {
   "cell_type": "code",
   "execution_count": null,
   "metadata": {
    "ExecuteTime": {
     "end_time": "2018-04-17T23:22:03.354693Z",
     "start_time": "2018-04-17T23:22:03.332180Z"
    },
    "code_folding": [
     0
    ]
   },
   "outputs": [],
   "source": [
    "# Print hand\n",
    "\n",
    "def printHand(hand):\n",
    "    score = \"\"\n",
    "    color = \"\"\n",
    "    bottom = \"\"\n",
    "    \n",
    "    for card in hand:\n",
    "        left = ' ' if str(card[2]) == 'N' else str(card[2])\n",
    "        middle = ' ' if str(card[3]) == 'N' else str(card[3])\n",
    "        right = ' ' if str(card[4]) == 'N' else str(card[4])\n",
    "        \n",
    "        if (card[1] == 'R'):\n",
    "            score += \"\\x1b[31m\"\n",
    "            color += \"\\x1b[31m\"\n",
    "            bottom += \"\\x1b[31m\"\n",
    "        elif (card[1] == 'G'):\n",
    "            score += \"\\x1b[32m\"\n",
    "            color += \"\\x1b[32m\"\n",
    "            bottom += \"\\x1b[32m\"\n",
    "        elif (card[1] == 'B'):\n",
    "            score += \"\\x1b[34m\"\n",
    "            color += \"\\x1b[34m\"\n",
    "            bottom += \"\\x1b[34m\"\n",
    "        elif (card[1] == 'Y'):\n",
    "            score += \"\\x1b[33m\"\n",
    "            color += \"\\x1b[33m\"\n",
    "            bottom += \"\\x1b[33m\"\n",
    "        elif (card[1] == 'D'):\n",
    "            score += \"\\x1b[35m\"\n",
    "            color += \"\\x1b[35m\"\n",
    "            bottom += \"\\x1b[35m\"\n",
    "        \n",
    "        score += \"|\" + (' ' if card[0] > 0 and card[0] < 10 else '') + \"\" + str(card[0]) + \" |  \"\n",
    "        color += \"| \" + str(card[1]) + \" |  \"\n",
    "        bottom += \"|\" + left + \"\" + middle + \"\" + right + \"|  \"\n",
    "    \n",
    "    score += \"\\x1b[37m\"\n",
    "    color += \"\\x1b[37m\"\n",
    "    bottom += \"\\x1b[37m\"\n",
    "        \n",
    "    print score\n",
    "    print color\n",
    "    print bottom"
   ]
  },
  {
   "cell_type": "code",
   "execution_count": 285,
   "metadata": {
    "ExecuteTime": {
     "end_time": "2018-04-18T00:16:58.508293Z",
     "start_time": "2018-04-18T00:16:58.406647Z"
    },
    "code_folding": []
   },
   "outputs": [],
   "source": [
    "# Play a card onto the table\n",
    "# in - array of cards on the table\n",
    "# in - card just played\n",
    "# in - position that the card was played at\n",
    "# out - updated cards on table\n",
    "\n",
    "def playCard(playedCards, currCard, position):\n",
    "    \n",
    "    cardColor = currCard[1]\n",
    "    cardLeft = currCard[2]\n",
    "    cardMiddle = currCard[3]\n",
    "    cardRight = currCard[4]\n",
    "    playedCards.insert(position, currCard)\n",
    "    \n",
    "    oldPoints = []\n",
    "    for i in range(len(playedCards)):\n",
    "        oldPoints.append(playedCards[i][0])\n",
    "    \n",
    "    # Go through each card left to right\n",
    "    for i, card in enumerate(playedCards):\n",
    "\n",
    "        # See if this card's middle is the card just added\n",
    "        if (card[3] == cardColor):\n",
    "            if (cardColor == 'D'):\n",
    "                playedCards[position][0] += 1\n",
    "            else:\n",
    "                card[0] += 1\n",
    "        \n",
    "        # See if this card is the played card's middle\n",
    "        if (card[1] == cardMiddle and not i == position):\n",
    "            if (cardMiddle == 'D'):\n",
    "                card[0] += 1\n",
    "            else:\n",
    "                playedCards[position][0] += oldPoints[i]\n",
    "\n",
    "        # The card to the left of the card just played\n",
    "        if (i == position - 1):\n",
    "            if (playedCards[i][4] == cardColor):\n",
    "                if (cardColor == 'D'):\n",
    "                    playedCards[position][0] += 1\n",
    "                else:\n",
    "                    card[0] += 1\n",
    "\n",
    "        # The card to the right of the card just played\n",
    "        if (i == position + 1):\n",
    "            if (playedCards[i][2] == cardColor):\n",
    "                if (cardColor == 'D'):\n",
    "                    playedCards[position][0] += 1\n",
    "                else:\n",
    "                    card[0] += 1\n",
    "\n",
    "        # The card just played\n",
    "        if (i == position):\n",
    "            if (i > 0):\n",
    "                if (playedCards[i - 1][1] == cardLeft):\n",
    "                    if (cardLeft == 'D'):\n",
    "                        playedCards[position - 1][0] += 1\n",
    "                    else:\n",
    "                        card[0] += oldPoints[i - 1]\n",
    "            if (i < len(playedCards) - 1):\n",
    "                if (playedCards[i + 1][1] == cardRight):\n",
    "                    if (cardRight == 'D'):\n",
    "                        playedCards[position + 1][0] += 1\n",
    "                    else:\n",
    "                        card[0] += oldPoints[i + 1]\n",
    "\n",
    "# Calculate the score of a hand\n",
    "# in - array of cards on the table\n",
    "# in - the needed color\n",
    "# in - the loved color\n",
    "# out - points from this hand\n",
    "\n",
    "def countPoints(playedCards, need, love):\n",
    "    if (not len(playedCards) == 4):\n",
    "        raise ValueError('There are not 4 cards in this hand, there are ' + str(len(playedCards)))\n",
    "        \n",
    "    cardColors = []\n",
    "    needCard = False\n",
    "    loveCard = False\n",
    "    darkCard = False\n",
    "    points = 0\n",
    "    \n",
    "    # Put each card color into an array, make\n",
    "    # sure the needed color was used and\n",
    "    # add any points from cards\n",
    "    for card in playedCards:\n",
    "        thisColor = card[1]\n",
    "        cardColors.append(thisColor)\n",
    "        \n",
    "        multiplier = 1\n",
    "        if (thisColor == need):\n",
    "            needCard = True\n",
    "        if (thisColor == love):\n",
    "            multiplier = 2\n",
    "            loveCard = True\n",
    "        if (thisColor == 'D'):\n",
    "            darkCard = True\n",
    "            \n",
    "        points += card[0] * multiplier\n",
    "        \n",
    "    unique = len(list(set(cardColors))) == len(cardColors)\n",
    "    \n",
    "    # Return if the needed color was not used\n",
    "    if (not needCard):\n",
    "        return -1\n",
    "    \n",
    "    # Check if there are any bonus for this hand\n",
    "    \n",
    "    # Check if all the cards are the same\n",
    "    if (cardColors[0] == cardColors[1] == cardColors[2] == cardColors[3]):\n",
    "        points += 8\n",
    "    # Check if 3 of the 4 cards are the same\n",
    "    elif (cardColors[0] == cardColors[1] == cardColors[2] or cardColors[1] == cardColors[2] == cardColors[3]):\n",
    "        if (loveCard):\n",
    "            points += 8\n",
    "        else:\n",
    "            points += 4\n",
    "    else:\n",
    "        # Keep track if we will need to look at the rainbow bonus\n",
    "        shouldCheckRainbow = True\n",
    "        \n",
    "        # Check if there is a pair\n",
    "        for i in range(0, 3):\n",
    "            if (cardColors[i] == cardColors[i + 1]):\n",
    "                if (cardColors[i] == love):\n",
    "                    points += 4\n",
    "                else:\n",
    "                    points += 2\n",
    "                shouldCheckRainbow = False\n",
    "        \n",
    "        if (shouldCheckRainbow):\n",
    "            if (not darkCard and unique):\n",
    "                if (love == 'D'):\n",
    "                    points += 3\n",
    "                else:\n",
    "                    points += 6\n",
    "    \n",
    "    return points"
   ]
  },
  {
   "cell_type": "code",
   "execution_count": 314,
   "metadata": {
    "ExecuteTime": {
     "end_time": "2018-04-18T01:45:47.931389Z",
     "start_time": "2018-04-18T01:45:47.915212Z"
    },
    "code_folding": [
     0
    ]
   },
   "outputs": [],
   "source": [
    "# Tests\n",
    "\n",
    "def playTest(thisTest, verify, testNum, debug=False):\n",
    "    \n",
    "    result = []\n",
    "    for card in thisTest:\n",
    "        cardCopy = copy.deepcopy(card)\n",
    "        \n",
    "        playCard(result, cardCopy[0], cardCopy[1])\n",
    "        if (debug):\n",
    "            printHand(result)\n",
    "            print \"\\n\"\n",
    "        \n",
    "    if (not result == verify):\n",
    "        if (debug == False):\n",
    "            unitTest(thisTest, verify, testNum, True)\n",
    "        \n",
    "        print \"This test's output\"\n",
    "        print result\n",
    "        print \"\"\n",
    "        \n",
    "        printHand(result)\n",
    "        print \"--------------------------------\"\n",
    "        print \"should be\"\n",
    "        print \"--------------------------------\"\n",
    "        printHand(verify)\n",
    "        \n",
    "        raise ValueError('Test ' + str(testNum) + ' Failed.\\n')\n",
    "        \n",
    "def pointTest(thisHand, colorNeeded, colorLoved, verify, testNum, debug=False):\n",
    "    \n",
    "    result = countPoints(thisHand, colorNeeded, colorLoved)\n",
    "    \n",
    "    if (not result == verify):\n",
    "        raise ValueError('Wanted ' + str(verify) + ' got ' + str(result))"
   ]
  },
  {
   "cell_type": "code",
   "execution_count": 315,
   "metadata": {
    "ExecuteTime": {
     "end_time": "2018-04-18T01:45:49.795479Z",
     "start_time": "2018-04-18T01:45:49.691407Z"
    },
    "code_folding": [
     0
    ]
   },
   "outputs": [],
   "source": [
    "# Unit tests\n",
    "\n",
    "# Tests for adding cards to the hand\n",
    "test1 = [[[1, 'R', 'N', 'N', 'G'], 0],\n",
    "         [[1, 'B', 'R', 'N', 'N'], 1],\n",
    "         [[1, 'G', 'B', 'N', 'R'], 0],\n",
    "         [[1, 'Y', 'N', 'N', 'B'], 2]]\n",
    "test1Solution = [[2, 'G', 'B', 'N', 'R'], [1, 'R', 'N', 'N', 'G'], [3, 'Y', 'N', 'N', 'B'], [2, 'B', 'R', 'N', 'N']]\n",
    "playTest(test1, test1Solution, 1)\n",
    "\n",
    "test2 = [[[-3, 'D', 'N', 'N', 'N'], 0],\n",
    "         [[1, 'R', 'D', 'N', 'N'], 1],\n",
    "         [[1, 'Y', 'R', 'N', 'N'], 2],\n",
    "         [[1, 'G', 'N', 'B', 'N'], 1]]\n",
    "test2Solution = [[-2, 'D', 'N', 'N', 'N'], [1, 'G', 'N', 'B', 'N'], [1, 'R', 'D', 'N', 'N'], [2, 'Y', 'R', 'N', 'N']]\n",
    "playTest(test2, test2Solution, 2)\n",
    "\n",
    "test3 = [[[1, 'B', 'N', 'G', 'N'], 0],\n",
    "         [[-3, 'D', 'N', 'N', 'N'], 0],\n",
    "         [[1, 'G', 'N', 'R', 'N'], 1],\n",
    "         [[1, 'B', 'B', 'N', 'N'], 3]]\n",
    "\n",
    "test3Solution = [[-3, 'D', 'N', 'N', 'N'], [1, 'G', 'N', 'R', 'N'], [2, 'B', 'N', 'G', 'N'], [3, 'B', 'B', 'N', 'N']]\n",
    "playTest(test3, test3Solution, 3)\n",
    "\n",
    "test4 = [[[-2, 'D', 'N', 'N', 'N'], 0],\n",
    "         [[-3, 'D', 'N', 'N', 'N'], 0],\n",
    "         [[1, 'B', 'N', 'D', 'N'], 0],\n",
    "         [[1, 'Y', 'N', 'N', 'D'], 1]]\n",
    "\n",
    "test4Solution = [[1, 'B', 'N', 'D', 'N'], [1, 'Y', 'N', 'N', 'D'], [-1, 'D', 'N', 'N', 'N'], [-1, 'D', 'N', 'N', 'N']]\n",
    "playTest(test4, test4Solution, 4)\n",
    "\n",
    "test5 = [[[1, 'G', 'N', 'G', 'N'], 0],\n",
    "         [[1, 'G', 'N', 'G', 'N'], 0],\n",
    "         [[1, 'G', 'N', 'G', 'N'], 0],\n",
    "         [[1, 'G', 'N', 'G', 'N'], 0]]\n",
    "\n",
    "test5Solution = [[20, 'G', 'N', 'G', 'N'], [10, 'G', 'N', 'G', 'N'], [6, 'G', 'N', 'G', 'N'], [5, 'G', 'N', 'G', 'N']]\n",
    "playTest(test5, test5Solution, 5)\n",
    "\n",
    "test6 = [[[1, 'G', 'N', 'R', 'N'], 0],\n",
    "         [[1, 'R', 'G', 'N', 'B'], 1],\n",
    "         [[-2, 'D', 'N', 'N', 'N'], 0],\n",
    "         [[1, 'B', 'N', 'R', 'N'], 3]]\n",
    "\n",
    "test6Solution = [[-2, 'D', 'N', 'N', 'N'], [2, 'G', 'N', 'R', 'N'], [3, 'R', 'G', 'N', 'B'], [3, 'B', 'N', 'R', 'N']]\n",
    "playTest(test6, test6Solution, 6)\n",
    "\n",
    "# Tests for tracking end of hand points\n",
    "test1 = [[1, 'Y', 'N', 'N', 'N'],\n",
    "         [1, 'R', 'N', 'N', 'N'],\n",
    "         [1, 'B', 'N', 'N', 'N'],\n",
    "         [1, 'G', 'N', 'N', 'N']]\n",
    "test1Solution = 11\n",
    "test1Need = 'R'\n",
    "test1Love = 'B'\n",
    "pointTest(test1, test1Need, test1Love, test1Solution, 1)\n",
    "\n",
    "test2 = [[2, 'G', 'N', 'N', 'N'],\n",
    "         [1, 'R', 'N', 'N', 'N'],\n",
    "         [3, 'Y', 'N', 'N', 'N'],\n",
    "         [2, 'B', 'N', 'N', 'N']]\n",
    "test2Solution = 15\n",
    "test2Need = 'G'\n",
    "test2Love = 'R'\n",
    "pointTest(test2, test2Need, test2Love, test2Solution, 2)\n",
    "\n",
    "test3 = [[2, 'Y', 'N', 'N', 'N'],\n",
    "         [3, 'G', 'N', 'N', 'N'],\n",
    "         [2, 'R', 'N', 'N', 'N'],\n",
    "         [3, 'B', 'N', 'N', 'N']]\n",
    "test3Solution = 19\n",
    "test3Need = 'B'\n",
    "test3Love = 'G'\n",
    "pointTest(test3, test3Need, test3Love, test3Solution, 3)\n",
    "\n",
    "test4 = [[2, 'Y', 'N', 'N', 'N'],\n",
    "         [1, 'Y', 'N', 'N', 'N'],\n",
    "         [1, 'R', 'N', 'N', 'N'],\n",
    "         [-3, 'D', 'N', 'N', 'N']]\n",
    "test4Solution = 4\n",
    "test4Need = 'Y'\n",
    "test4Love = 'R'\n",
    "pointTest(test4, test4Need, test4Love, test4Solution, 4)\n",
    "\n",
    "test5 = [[2, 'B', 'N', 'N', 'N'],\n",
    "         [1, 'B', 'N', 'N', 'N'],\n",
    "         [1, 'R', 'N', 'N', 'N'],\n",
    "         [-1, 'D', 'N', 'N', 'N']]\n",
    "test5Solution = 4\n",
    "test5Need = 'B'\n",
    "test5Love = 'D'\n",
    "pointTest(test5, test5Need, test5Love, test5Solution, 5)\n",
    "\n",
    "test6 = [[1, 'Y', 'N', 'N', 'N'],\n",
    "         [4, 'Y', 'N', 'N', 'N'],\n",
    "         [1, 'Y', 'N', 'N', 'N'],\n",
    "         [4, 'G', 'N', 'N', 'N']]\n",
    "test6Solution = 14\n",
    "test6Need = 'Y'\n",
    "test6Love = 'B'\n",
    "pointTest(test6, test6Need, test6Love, test6Solution, 6)\n",
    "\n",
    "test7 = [[-1, 'D', 'N', 'N', 'N'],\n",
    "         [-3, 'D', 'N', 'N', 'N'],\n",
    "         [-3, 'D', 'N', 'N', 'N'],\n",
    "         [1, 'G', 'N', 'N', 'N']]\n",
    "test7Solution = -2\n",
    "test7Need = 'G'\n",
    "test7Love = 'R'\n",
    "pointTest(test7, test7Need, test7Love, test7Solution, 7)"
   ]
  },
  {
   "cell_type": "code",
   "execution_count": 325,
   "metadata": {
    "ExecuteTime": {
     "end_time": "2018-04-18T05:16:59.867509Z",
     "start_time": "2018-04-18T05:16:59.821856Z"
    },
    "code_folding": []
   },
   "outputs": [
    {
     "name": "stdout",
     "output_type": "stream",
     "text": [
      "Y Y\n",
      "Y Y\n"
     ]
    },
    {
     "ename": "IndexError",
     "evalue": "string index out of range",
     "output_type": "error",
     "traceback": [
      "\u001b[0;31m---------------------------------------------------------------------------\u001b[0m",
      "\u001b[0;31mIndexError\u001b[0m                                Traceback (most recent call last)",
      "\u001b[0;32m<ipython-input-325-66a1871634fd>\u001b[0m in \u001b[0;36m<module>\u001b[0;34m()\u001b[0m\n\u001b[1;32m     32\u001b[0m                 \u001b[0mhowPlayed\u001b[0m\u001b[0;34m.\u001b[0m\u001b[0mappend\u001b[0m\u001b[0;34m(\u001b[0m\u001b[0;34m[\u001b[0m\u001b[0mpile\u001b[0m\u001b[0;34m,\u001b[0m \u001b[0mposition\u001b[0m\u001b[0;34m]\u001b[0m\u001b[0;34m)\u001b[0m\u001b[0;34m\u001b[0m\u001b[0m\n\u001b[1;32m     33\u001b[0m                 \u001b[0mthisCard\u001b[0m \u001b[0;34m=\u001b[0m \u001b[0mcopy\u001b[0m\u001b[0;34m.\u001b[0m\u001b[0mdeepcopy\u001b[0m\u001b[0;34m(\u001b[0m\u001b[0mgame\u001b[0m\u001b[0;34m[\u001b[0m\u001b[0mpile\u001b[0m\u001b[0;34m]\u001b[0m\u001b[0;34m[\u001b[0m\u001b[0mcardsTaken\u001b[0m\u001b[0;34m[\u001b[0m\u001b[0mpile\u001b[0m\u001b[0;34m]\u001b[0m\u001b[0;34m]\u001b[0m\u001b[0;34m)\u001b[0m\u001b[0;34m\u001b[0m\u001b[0m\n\u001b[0;32m---> 34\u001b[0;31m                 \u001b[0mplayCard\u001b[0m\u001b[0;34m(\u001b[0m\u001b[0mhand\u001b[0m\u001b[0;34m,\u001b[0m \u001b[0mthisCard\u001b[0m\u001b[0;34m,\u001b[0m \u001b[0mposition\u001b[0m\u001b[0;34m)\u001b[0m\u001b[0;34m\u001b[0m\u001b[0m\n\u001b[0m\u001b[1;32m     35\u001b[0m \u001b[0;34m\u001b[0m\u001b[0m\n\u001b[1;32m     36\u001b[0m                 \u001b[0mcardsTaken\u001b[0m\u001b[0;34m[\u001b[0m\u001b[0mpile\u001b[0m\u001b[0;34m]\u001b[0m \u001b[0;34m+=\u001b[0m \u001b[0;36m1\u001b[0m\u001b[0;34m\u001b[0m\u001b[0m\n",
      "\u001b[0;32m<ipython-input-285-f7b08c3b17be>\u001b[0m in \u001b[0;36mplayCard\u001b[0;34m(playedCards, currCard, position)\u001b[0m\n\u001b[1;32m      7\u001b[0m \u001b[0;32mdef\u001b[0m \u001b[0mplayCard\u001b[0m\u001b[0;34m(\u001b[0m\u001b[0mplayedCards\u001b[0m\u001b[0;34m,\u001b[0m \u001b[0mcurrCard\u001b[0m\u001b[0;34m,\u001b[0m \u001b[0mposition\u001b[0m\u001b[0;34m)\u001b[0m\u001b[0;34m:\u001b[0m\u001b[0;34m\u001b[0m\u001b[0m\n\u001b[1;32m      8\u001b[0m \u001b[0;34m\u001b[0m\u001b[0m\n\u001b[0;32m----> 9\u001b[0;31m     \u001b[0mcardColor\u001b[0m \u001b[0;34m=\u001b[0m \u001b[0mcurrCard\u001b[0m\u001b[0;34m[\u001b[0m\u001b[0;36m1\u001b[0m\u001b[0;34m]\u001b[0m\u001b[0;34m\u001b[0m\u001b[0m\n\u001b[0m\u001b[1;32m     10\u001b[0m     \u001b[0mcardLeft\u001b[0m \u001b[0;34m=\u001b[0m \u001b[0mcurrCard\u001b[0m\u001b[0;34m[\u001b[0m\u001b[0;36m2\u001b[0m\u001b[0;34m]\u001b[0m\u001b[0;34m\u001b[0m\u001b[0m\n\u001b[1;32m     11\u001b[0m     \u001b[0mcardMiddle\u001b[0m \u001b[0;34m=\u001b[0m \u001b[0mcurrCard\u001b[0m\u001b[0;34m[\u001b[0m\u001b[0;36m3\u001b[0m\u001b[0;34m]\u001b[0m\u001b[0;34m\u001b[0m\u001b[0m\n",
      "\u001b[0;31mIndexError\u001b[0m: string index out of range"
     ]
    }
   ],
   "source": [
    "# Run a search on a game and find a path to the end\n",
    "\n",
    "game = readCSV(\"game.csv\")\n",
    "\n",
    "maxFound = 0\n",
    "maxHand = []\n",
    "maxLove = ''\n",
    "maxNeed = ''\n",
    "maxHowPlayed = []\n",
    "\n",
    "for repeat in range(100000):\n",
    "    \n",
    "    howPlayed = []\n",
    "    thisTurnMoves = [0]*4\n",
    "    cardsTaken = [0]*4\n",
    "    gameTotal = 0\n",
    "    \n",
    "    for playedHands in range(13):\n",
    "        \n",
    "        goodHand = False\n",
    "        while (not goodHand):\n",
    "            hand = []\n",
    "            colors = ['B', 'G', 'Y', 'R']\n",
    "            shuffle(colors)\n",
    "            for playedCards in range(4):\n",
    "                while (True):\n",
    "                    pile = random.randint(0,3)\n",
    "                    if (cardsTaken[pile] < 13):\n",
    "                        break\n",
    "\n",
    "                position = random.randint(0, playedCards)\n",
    "                howPlayed.append([pile, position])\n",
    "                thisCard = copy.deepcopy(game[pile][cardsTaken[pile]])\n",
    "                playCard(hand, thisCard, position)\n",
    "\n",
    "                cardsTaken[pile] += 1\n",
    "                thisTurnMoves[pile] += 1\n",
    "\n",
    "            print game[playedHands][4], game[playedHands][4]\n",
    "            thisHandPoints = countPoints(hand, game[playedHands][4], game[playedHands][5])\n",
    "            if (thisHandPoints <= 0):\n",
    "                for i in range(len(thisTurnMoves)):\n",
    "                    cardsTaken[i] -= thisTurnMoves[i]\n",
    "\n",
    "        gameTotal += thisHandPoints\n",
    "        \n",
    "    if (gameTotal > maxFound):\n",
    "        maxFound = gameTotal\n",
    "        maxHand = hand\n",
    "        maxNeed = colors[0]\n",
    "        maxLove = colors[1]\n",
    "        maxHowPlayed = howPlayed\n",
    "            \n",
    "print maxFound\n",
    "print maxNeed\n",
    "print maxLove\n",
    "print maxHowPlayed\n",
    "printHand(maxHand)"
   ]
  },
  {
   "cell_type": "code",
   "execution_count": null,
   "metadata": {
    "ExecuteTime": {
     "end_time": "2018-04-17T23:30:39.585453Z",
     "start_time": "2018-04-17T23:30:39.577546Z"
    }
   },
   "outputs": [],
   "source": [
    "random.randint(1,2)"
   ]
  },
  {
   "cell_type": "code",
   "execution_count": 268,
   "metadata": {
    "ExecuteTime": {
     "end_time": "2018-04-18T00:09:03.005678Z",
     "start_time": "2018-04-18T00:09:03.000107Z"
    }
   },
   "outputs": [
    {
     "name": "stdout",
     "output_type": "stream",
     "text": [
      "False\n"
     ]
    }
   ],
   "source": [
    "playedCards = [1, 2, 2]\n",
    "\n",
    "unique = len(list(set(playedCards))) == len(playedCards)\n",
    "print unique"
   ]
  },
  {
   "cell_type": "code",
   "execution_count": 311,
   "metadata": {
    "ExecuteTime": {
     "end_time": "2018-04-18T01:36:15.995513Z",
     "start_time": "2018-04-18T01:36:15.978383Z"
    }
   },
   "outputs": [
    {
     "ename": "NameError",
     "evalue": "name 'operator' is not defined",
     "output_type": "error",
     "traceback": [
      "\u001b[0;31m---------------------------------------------------------------------------\u001b[0m",
      "\u001b[0;31mNameError\u001b[0m                                 Traceback (most recent call last)",
      "\u001b[0;32m<ipython-input-311-2fc0dd6670ee>\u001b[0m in \u001b[0;36m<module>\u001b[0;34m()\u001b[0m\n\u001b[1;32m      1\u001b[0m \u001b[0mA\u001b[0m \u001b[0;34m=\u001b[0m \u001b[0;34m[\u001b[0m\u001b[0;36m1\u001b[0m\u001b[0;34m,\u001b[0m \u001b[0;36m3\u001b[0m\u001b[0;34m]\u001b[0m\u001b[0;34m\u001b[0m\u001b[0m\n\u001b[1;32m      2\u001b[0m \u001b[0mB\u001b[0m \u001b[0;34m=\u001b[0m \u001b[0;34m[\u001b[0m\u001b[0;36m1\u001b[0m\u001b[0;34m,\u001b[0m \u001b[0;36m1\u001b[0m\u001b[0;34m]\u001b[0m\u001b[0;34m\u001b[0m\u001b[0m\n\u001b[0;32m----> 3\u001b[0;31m \u001b[0;32mprint\u001b[0m \u001b[0mmap\u001b[0m\u001b[0;34m(\u001b[0m\u001b[0moperator\u001b[0m\u001b[0;34m.\u001b[0m\u001b[0msub\u001b[0m\u001b[0;34m,\u001b[0m \u001b[0mA\u001b[0m\u001b[0;34m,\u001b[0m \u001b[0mB\u001b[0m\u001b[0;34m)\u001b[0m\u001b[0;34m\u001b[0m\u001b[0m\n\u001b[0m",
      "\u001b[0;31mNameError\u001b[0m: name 'operator' is not defined"
     ]
    }
   ],
   "source": [
    "A = [1, 3]\n",
    "B = [1, 1]\n",
    "print map(operator.sub, A, B)"
   ]
  }
 ],
 "metadata": {
  "kernelspec": {
   "display_name": "Python 2",
   "language": "python",
   "name": "python2"
  },
  "language_info": {
   "codemirror_mode": {
    "name": "ipython",
    "version": 2
   },
   "file_extension": ".py",
   "mimetype": "text/x-python",
   "name": "python",
   "nbconvert_exporter": "python",
   "pygments_lexer": "ipython2",
   "version": "2.7.12"
  },
  "toc": {
   "base_numbering": 1,
   "nav_menu": {},
   "number_sections": true,
   "sideBar": true,
   "skip_h1_title": false,
   "title_cell": "Table of Contents",
   "title_sidebar": "Contents",
   "toc_cell": false,
   "toc_position": {
    "height": "calc(100% - 180px)",
    "left": "10px",
    "top": "150px",
    "width": "165px"
   },
   "toc_section_display": true,
   "toc_window_display": false
  },
  "varInspector": {
   "cols": {
    "lenName": 16,
    "lenType": 16,
    "lenVar": 40
   },
   "kernels_config": {
    "python": {
     "delete_cmd_postfix": "",
     "delete_cmd_prefix": "del ",
     "library": "var_list.py",
     "varRefreshCmd": "print(var_dic_list())"
    },
    "r": {
     "delete_cmd_postfix": ") ",
     "delete_cmd_prefix": "rm(",
     "library": "var_list.r",
     "varRefreshCmd": "cat(var_dic_list()) "
    }
   },
   "types_to_exclude": [
    "module",
    "function",
    "builtin_function_or_method",
    "instance",
    "_Feature"
   ],
   "window_display": false
  }
 },
 "nbformat": 4,
 "nbformat_minor": 2
}
